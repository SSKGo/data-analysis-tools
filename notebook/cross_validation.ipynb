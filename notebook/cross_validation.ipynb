{
 "cells": [
  {
   "cell_type": "code",
   "execution_count": null,
   "metadata": {},
   "outputs": [],
   "source": [
    "import pandas as pd\n",
    "from IPython.core.display import display\n",
    "from sklearn.model_selection import KFold, TimeSeriesSplit\n",
    "\n",
    "from modules.datasets import make_time_series_data\n",
    "\n",
    "# Select CV method.\n",
    "cv_method = \"KFold\" # KFold, TimeSeriesSplit\n",
    "\n",
    "# Generatesample data.\n",
    "n_samples = 9\n",
    "n_features = 10\n",
    "\n",
    "x = make_time_series_data(\n",
    "    n_samples=n_samples,\n",
    "    n_features=n_features,\n",
    "    random_state=0,\n",
    "    start=\"2021-01-01 00:00:00\",\n",
    ")\n",
    "\n",
    "y = pd.DataFrame(\n",
    "    0.5 * x.iloc[:, 0] + 0.4 * x.iloc[:, 1] - 0.3 * x.iloc[:, 2], columns=[\"target\"]\n",
    ")\n",
    "\n",
    "df = pd.concat([y, x], axis=1)\n",
    "\n",
    "n_cv = 3\n",
    "random_state = 100\n",
    "\n",
    "if cv_method == \"KFold\":\n",
    "    cv = KFold(n_splits=n_cv, shuffle=True, random_state=random_state)\n",
    "elif cv_method == \"TimeSeriesSplit\":\n",
    "    cv = TimeSeriesSplit(n_splits=n_cv)\n",
    "else:\n",
    "    raise ValueError(\"CV method must be 'KFlod' or 'TimeSeriesSplit'.\")\n",
    "\n",
    "# Preapre CV data\n",
    "data_scaled_cv = []\n",
    "for i_cv, (train_index, test_index) in enumerate(cv.split(df)):\n",
    "    data_scaled_cv.append({\"train\": {}, \"test\": {}})\n",
    "    data_scaled_cv[i_cv][\"train\"][\"index\"] = train_index\n",
    "    data_scaled_cv[i_cv][\"test\"][\"index\"] = test_index\n",
    "\n",
    "    # Change traind data background color to grey\n",
    "    train_slice = pd.IndexSlice[df.index[train_index], :]\n",
    "    test_slice = pd.IndexSlice[df.index[test_index], :]\n",
    "    df_color = df.copy().style.set_properties(\n",
    "        **{\"background-color\": \"#666\"}, subset=train_slice\n",
    "    ).set_properties(\n",
    "        **{\"background-color\": \"#000\"}, subset=test_slice\n",
    "    )\n",
    "    display(df_color)\n"
   ]
  },
  {
   "cell_type": "code",
   "execution_count": null,
   "metadata": {},
   "outputs": [],
   "source": []
  }
 ],
 "metadata": {
  "interpreter": {
   "hash": "26cf4bc0cdd8a3148ff9067018a9722061a4c758dfd270a2f7b763ebd65229fc"
  },
  "kernelspec": {
   "display_name": "Python 3.8.12 64-bit ('data_analysis': conda)",
   "name": "python3"
  },
  "language_info": {
   "codemirror_mode": {
    "name": "ipython",
    "version": 3
   },
   "file_extension": ".py",
   "mimetype": "text/x-python",
   "name": "python",
   "nbconvert_exporter": "python",
   "pygments_lexer": "ipython3",
   "version": "3.8.12"
  },
  "orig_nbformat": 4
 },
 "nbformat": 4,
 "nbformat_minor": 2
}